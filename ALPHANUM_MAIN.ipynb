{
  "cells": [
    {
      "cell_type": "code",
      "execution_count": 1,
      "metadata": {
        "colab": {
          "base_uri": "https://localhost:8080/"
        },
        "id": "aY1HM1l5_J4f",
        "outputId": "29c38d37-87f4-4823-9bfe-17c3d5380148"
      },
      "outputs": [
        {
          "output_type": "stream",
          "name": "stdout",
          "text": [
            "Looking in indexes: https://pypi.org/simple, https://us-python.pkg.dev/colab-wheels/public/simple/\n",
            "Collecting opendatasets\n",
            "  Downloading opendatasets-0.1.22-py3-none-any.whl (15 kB)\n",
            "Requirement already satisfied: tqdm in /usr/local/lib/python3.7/dist-packages (from opendatasets) (4.64.0)\n",
            "Requirement already satisfied: click in /usr/local/lib/python3.7/dist-packages (from opendatasets) (7.1.2)\n",
            "Requirement already satisfied: kaggle in /usr/local/lib/python3.7/dist-packages (from opendatasets) (1.5.12)\n",
            "Requirement already satisfied: urllib3 in /usr/local/lib/python3.7/dist-packages (from kaggle->opendatasets) (1.24.3)\n",
            "Requirement already satisfied: requests in /usr/local/lib/python3.7/dist-packages (from kaggle->opendatasets) (2.23.0)\n",
            "Requirement already satisfied: six>=1.10 in /usr/local/lib/python3.7/dist-packages (from kaggle->opendatasets) (1.15.0)\n",
            "Requirement already satisfied: python-dateutil in /usr/local/lib/python3.7/dist-packages (from kaggle->opendatasets) (2.8.2)\n",
            "Requirement already satisfied: certifi in /usr/local/lib/python3.7/dist-packages (from kaggle->opendatasets) (2022.6.15)\n",
            "Requirement already satisfied: python-slugify in /usr/local/lib/python3.7/dist-packages (from kaggle->opendatasets) (6.1.2)\n",
            "Requirement already satisfied: text-unidecode>=1.3 in /usr/local/lib/python3.7/dist-packages (from python-slugify->kaggle->opendatasets) (1.3)\n",
            "Requirement already satisfied: idna<3,>=2.5 in /usr/local/lib/python3.7/dist-packages (from requests->kaggle->opendatasets) (2.10)\n",
            "Requirement already satisfied: chardet<4,>=3.0.2 in /usr/local/lib/python3.7/dist-packages (from requests->kaggle->opendatasets) (3.0.4)\n",
            "Installing collected packages: opendatasets\n",
            "Successfully installed opendatasets-0.1.22\n",
            "Looking in indexes: https://pypi.org/simple, https://us-python.pkg.dev/colab-wheels/public/simple/\n",
            "Requirement already satisfied: pandas in /usr/local/lib/python3.7/dist-packages (1.3.5)\n",
            "Requirement already satisfied: python-dateutil>=2.7.3 in /usr/local/lib/python3.7/dist-packages (from pandas) (2.8.2)\n",
            "Requirement already satisfied: numpy>=1.17.3 in /usr/local/lib/python3.7/dist-packages (from pandas) (1.21.6)\n",
            "Requirement already satisfied: pytz>=2017.3 in /usr/local/lib/python3.7/dist-packages (from pandas) (2022.2.1)\n",
            "Requirement already satisfied: six>=1.5 in /usr/local/lib/python3.7/dist-packages (from python-dateutil>=2.7.3->pandas) (1.15.0)\n"
          ]
        }
      ],
      "source": [
        "! pip install opendatasets\n",
        "! pip install pandas"
      ]
    },
    {
      "cell_type": "code",
      "execution_count": 2,
      "metadata": {
        "colab": {
          "base_uri": "https://localhost:8080/"
        },
        "id": "xlpCTwwm_J6v",
        "outputId": "6999586e-f301-406d-8e34-366ad741fc78"
      },
      "outputs": [
        {
          "output_type": "stream",
          "name": "stdout",
          "text": [
            "Please provide your Kaggle credentials to download this dataset. Learn more: http://bit.ly/kaggle-creds\n",
            "Your Kaggle username: div348\n",
            "Your Kaggle Key: ··········\n",
            "Downloading az-handwritten-alphabets-in-csv-format.zip to ./az-handwritten-alphabets-in-csv-format\n"
          ]
        },
        {
          "output_type": "stream",
          "name": "stderr",
          "text": [
            "100%|██████████| 185M/185M [00:01<00:00, 138MB/s]\n"
          ]
        },
        {
          "output_type": "stream",
          "name": "stdout",
          "text": [
            "\n"
          ]
        }
      ],
      "source": [
        "import opendatasets as od\n",
        "import pandas\n",
        "\n",
        "od.download(\n",
        "\t\"https://www.kaggle.com/datasets/sachinpatel21/az-handwritten-alphabets-in-csv-format\")\n"
      ]
    },
    {
      "cell_type": "code",
      "execution_count": 3,
      "metadata": {
        "id": "rZ19maUv_J9V"
      },
      "outputs": [],
      "source": [
        "import csv\n",
        "import pandas as pd"
      ]
    },
    {
      "cell_type": "markdown",
      "source": [
        "## Alphabet Dataset"
      ],
      "metadata": {
        "id": "cnUgMTJFhRVo"
      }
    },
    {
      "cell_type": "code",
      "execution_count": 4,
      "metadata": {
        "id": "SsuiH7Zt_J_o"
      },
      "outputs": [],
      "source": [
        "data_a = pd.read_csv('/content/az-handwritten-alphabets-in-csv-format/A_Z Handwritten Data.csv') "
      ]
    },
    {
      "cell_type": "code",
      "execution_count": 5,
      "metadata": {
        "id": "54Gin42h_KB9"
      },
      "outputs": [],
      "source": [
        "import numpy as np\n",
        "import pandas as pd\n",
        "from keras.datasets import mnist"
      ]
    },
    {
      "cell_type": "markdown",
      "source": [
        "## Numbers Dataset"
      ],
      "metadata": {
        "id": "BU5XrbNohcLm"
      }
    },
    {
      "cell_type": "code",
      "execution_count": 6,
      "metadata": {
        "colab": {
          "base_uri": "https://localhost:8080/"
        },
        "id": "Qj4CrKhk_KGH",
        "outputId": "3637321f-2d70-4b6a-a161-d009682d9759"
      },
      "outputs": [
        {
          "output_type": "stream",
          "name": "stdout",
          "text": [
            "Downloading data from https://storage.googleapis.com/tensorflow/tf-keras-datasets/mnist.npz\n",
            "11493376/11490434 [==============================] - 0s 0us/step\n",
            "11501568/11490434 [==============================] - 0s 0us/step\n"
          ]
        }
      ],
      "source": [
        "data = mnist.load_data('mnist.db')"
      ]
    },
    {
      "cell_type": "code",
      "execution_count": 7,
      "metadata": {
        "id": "mMMSBo75_KI4"
      },
      "outputs": [],
      "source": [
        "num_train, num_test = data"
      ]
    },
    {
      "cell_type": "code",
      "execution_count": 8,
      "metadata": {
        "id": "CzbMAkwJ_KLp"
      },
      "outputs": [],
      "source": [
        "X_num_train , y_num_train = num_train\n",
        "X_num_test , y_num_test = num_test"
      ]
    },
    {
      "cell_type": "markdown",
      "source": [
        "# ***Preparing Data***"
      ],
      "metadata": {
        "id": "k7vVfwkbhvbe"
      }
    },
    {
      "cell_type": "code",
      "execution_count": 9,
      "metadata": {
        "id": "1rrCh-qS_KOZ"
      },
      "outputs": [],
      "source": [
        "y_num_train = y_num_train+26\n",
        "y_num_test = y_num_test +26 \n",
        "y_num_train =  pd.DataFrame(y_num_train)\n",
        "y_num_test = pd.DataFrame(y_num_test)"
      ]
    },
    {
      "cell_type": "code",
      "execution_count": 10,
      "metadata": {
        "colab": {
          "base_uri": "https://localhost:8080/",
          "height": 282
        },
        "id": "FM6jTQdCDH1j",
        "outputId": "15948835-fff3-42fc-c44a-91365082d92d"
      },
      "outputs": [
        {
          "output_type": "execute_result",
          "data": {
            "text/plain": [
              "<matplotlib.image.AxesImage at 0x7f3a27528d50>"
            ]
          },
          "metadata": {},
          "execution_count": 10
        },
        {
          "output_type": "display_data",
          "data": {
            "text/plain": [
              "<Figure size 432x288 with 1 Axes>"
            ],
            "image/png": "[encoded data removed]"
          },
          "metadata": {
            "needs_background": "light"
          }
        }
      ],
      "source": [
        "import matplotlib.pyplot as plt\n",
        "plt.imshow(X_num_train[0],cmap = 'gray')"
      ]
    },
    {
      "cell_type": "code",
      "execution_count": 11,
      "metadata": {
        "id": "_Ef6D9AODH4C"
      },
      "outputs": [],
      "source": [
        "X_num_train = X_num_train.reshape(-1,28*28)\n",
        "X_num_test = X_num_test.reshape(-1,28*28)"
      ]
    },
    {
      "cell_type": "code",
      "execution_count": 12,
      "metadata": {
        "id": "fSQIz3h_DH6b"
      },
      "outputs": [],
      "source": [
        "X_a = data_a[data_a.keys()[1:]]\n",
        "y_a = data_a[data_a.keys()[0]]"
      ]
    },
    {
      "cell_type": "code",
      "execution_count": 13,
      "metadata": {
        "id": "KR_wVjG0DH8s"
      },
      "outputs": [],
      "source": [
        "from sklearn.model_selection import train_test_split\n",
        "X_a_train,X_a_test,y_a_train,y_a_test = train_test_split(X_a,y_a,test_size = .2 , random_state=42)"
      ]
    },
    {
      "cell_type": "code",
      "execution_count": 14,
      "metadata": {
        "id": "NelEyTUvDH-z"
      },
      "outputs": [],
      "source": [
        "from keras.utils.np_utils import to_categorical\n",
        "X_train = np.vstack([X_a_train,X_num_train])\n",
        "X_test  = np.vstack([X_a_test,X_num_test])\n",
        "y_train = pd.concat([y_a_train,y_num_train], axis=0, ignore_index=True)\n",
        "y_test  = pd.concat([y_a_test,y_num_test], axis=0, ignore_index=True)\n",
        "\n",
        "\n",
        "y_train = to_categorical(y_train)\n",
        "y_test = to_categorical(y_test)\n",
        "\n",
        "X_train = X_train.reshape(X_train.shape[0],28,28,1)\n",
        "X_test = X_test.reshape(X_test.shape[0],28,28,1)"
      ]
    },
    {
      "cell_type": "markdown",
      "source": [
        "# ***Model Training***"
      ],
      "metadata": {
        "id": "dIQxz8LngcK_"
      }
    },
    {
      "cell_type": "code",
      "execution_count": 15,
      "metadata": {
        "id": "8IWTPyetB5d5"
      },
      "outputs": [],
      "source": [
        "import keras\n",
        "from keras.datasets import mnist\n",
        "from keras.models import Sequential\n",
        "from keras.layers import Dense, Dropout, Flatten\n",
        "from keras.layers import Convolution2D, MaxPooling2D\n",
        "from keras import backend as K\n",
        "\n"
      ]
    },
    {
      "cell_type": "code",
      "execution_count": 16,
      "metadata": {
        "id": "3X1d_q8SB6TU"
      },
      "outputs": [],
      "source": [
        "model = Sequential()"
      ]
    },
    {
      "cell_type": "code",
      "execution_count": 17,
      "metadata": {
        "id": "4m0qc29HD3fG"
      },
      "outputs": [],
      "source": [
        "model.add(\n",
        "Convolution2D(\n",
        "    filters=32,\n",
        "    kernel_size=(3,3),\n",
        "    input_shape=(28,28,1),\n",
        "    activation='relu'\n",
        ")\n",
        ")\n",
        "model.add(Convolution2D(64, (3, 3), activation='relu'))\n",
        "model.add(\n",
        "MaxPooling2D(pool_size=(2,2))\n",
        ") \n",
        "model.add(Dropout(0.5))\n",
        "model.add(Flatten())"
      ]
    },
    {
      "cell_type": "code",
      "execution_count": 18,
      "metadata": {
        "id": "kDBOtnejD6wV"
      },
      "outputs": [],
      "source": [
        "#model.add( Dense(units = '128' , activation = 'relu'))\n",
        "model.add( Dense(units = '128', activation = 'relu'))\n",
        "model.add( Dense(units = '64', activation = 'relu'))\n",
        "\n",
        "model.add( Dense(units = '36', activation = 'softmax'))"
      ]
    },
    {
      "cell_type": "code",
      "execution_count": 19,
      "metadata": {
        "id": "Vq2PwpwkEEAu"
      },
      "outputs": [],
      "source": [
        "from tensorflow.keras.optimizers import Adam"
      ]
    },
    {
      "cell_type": "code",
      "execution_count": 20,
      "metadata": {
        "colab": {
          "base_uri": "https://localhost:8080/"
        },
        "id": "kQbL7djeEL7F",
        "outputId": "e66c5518-f86d-4da7-fd99-96e0e5953655"
      },
      "outputs": [
        {
          "output_type": "stream",
          "name": "stdout",
          "text": [
            "Model: \"sequential\"\n",
            "_________________________________________________________________\n",
            " Layer (type)                Output Shape              Param #   \n",
            "=================================================================\n",
            " conv2d (Conv2D)             (None, 26, 26, 32)        320       \n",
            "                                                                 \n",
            " conv2d_1 (Conv2D)           (None, 24, 24, 64)        18496     \n",
            "                                                                 \n",
            " max_pooling2d (MaxPooling2D  (None, 12, 12, 64)       0         \n",
            " )                                                               \n",
            "                                                                 \n",
            " dropout (Dropout)           (None, 12, 12, 64)        0         \n",
            "                                                                 \n",
            " flatten (Flatten)           (None, 9216)              0         \n",
            "                                                                 \n",
            " dense (Dense)               (None, 128)               1179776   \n",
            "                                                                 \n",
            " dense_1 (Dense)             (None, 64)                8256      \n",
            "                                                                 \n",
            " dense_2 (Dense)             (None, 36)                2340      \n",
            "                                                                 \n",
            "=================================================================\n",
            "Total params: 1,209,188\n",
            "Trainable params: 1,209,188\n",
            "Non-trainable params: 0\n",
            "_________________________________________________________________\n"
          ]
        }
      ],
      "source": [
        "model.summary()"
      ]
    },
    {
      "cell_type": "code",
      "execution_count": 21,
      "metadata": {
        "id": "EEUbVftdEMOG"
      },
      "outputs": [],
      "source": [
        "model.compile(  optimizer='Adam' ,\n",
        "                loss = 'categorical_crossentropy',\n",
        "                metrics = ['accuracy'])"
      ]
    },
    {
      "cell_type": "code",
      "execution_count": 22,
      "metadata": {
        "colab": {
          "base_uri": "https://localhost:8080/"
        },
        "id": "hLv1_fuwEcsl",
        "outputId": "f3441202-751c-434b-9b59-f53096a01b89"
      },
      "outputs": [
        {
          "output_type": "stream",
          "name": "stdout",
          "text": [
            "Epoch 1/18\n",
            "11187/11187 [==============================] - 653s 58ms/step - loss: 0.2898 - accuracy: 0.9212 - val_loss: 0.1128 - val_accuracy: 0.9689\n",
            "Epoch 2/18\n",
            "11187/11187 [==============================] - 657s 59ms/step - loss: 0.1482 - accuracy: 0.9576 - val_loss: 0.0958 - val_accuracy: 0.9742\n",
            "Epoch 3/18\n",
            "11187/11187 [==============================] - 657s 59ms/step - loss: 0.1230 - accuracy: 0.9647 - val_loss: 0.0797 - val_accuracy: 0.9783\n",
            "Epoch 4/18\n",
            "11187/11187 [==============================] - 673s 60ms/step - loss: 0.1103 - accuracy: 0.9687 - val_loss: 0.0836 - val_accuracy: 0.9778\n",
            "Epoch 5/18\n",
            "11187/11187 [==============================] - 674s 60ms/step - loss: 0.1028 - accuracy: 0.9710 - val_loss: 0.0738 - val_accuracy: 0.9799\n",
            "Epoch 6/18\n",
            "11187/11187 [==============================] - 671s 60ms/step - loss: 0.0974 - accuracy: 0.9728 - val_loss: 0.0747 - val_accuracy: 0.9802\n",
            "Epoch 7/18\n",
            "11187/11187 [==============================] - 668s 60ms/step - loss: 0.0944 - accuracy: 0.9733 - val_loss: 0.0726 - val_accuracy: 0.9814\n",
            "Epoch 8/18\n",
            "11187/11187 [==============================] - 668s 60ms/step - loss: 0.0891 - accuracy: 0.9751 - val_loss: 0.0687 - val_accuracy: 0.9833\n",
            "Epoch 9/18\n",
            "11187/11187 [==============================] - 669s 60ms/step - loss: 0.0884 - accuracy: 0.9755 - val_loss: 0.0747 - val_accuracy: 0.9820\n",
            "Epoch 10/18\n",
            "11187/11187 [==============================] - 669s 60ms/step - loss: 0.0864 - accuracy: 0.9763 - val_loss: 0.0793 - val_accuracy: 0.9799\n",
            "Epoch 11/18\n",
            "11187/11187 [==============================] - 670s 60ms/step - loss: 0.0858 - accuracy: 0.9769 - val_loss: 0.0731 - val_accuracy: 0.9821\n",
            "Epoch 12/18\n",
            "11187/11187 [==============================] - 677s 60ms/step - loss: 0.0841 - accuracy: 0.9772 - val_loss: 0.0918 - val_accuracy: 0.9795\n",
            "Epoch 13/18\n",
            "11187/11187 [==============================] - 676s 60ms/step - loss: 0.0845 - accuracy: 0.9774 - val_loss: 0.0701 - val_accuracy: 0.9839\n",
            "Epoch 14/18\n",
            "11187/11187 [==============================] - 676s 60ms/step - loss: 0.0845 - accuracy: 0.9777 - val_loss: 0.0686 - val_accuracy: 0.9832\n",
            "Epoch 15/18\n",
            "11187/11187 [==============================] - 676s 60ms/step - loss: 0.0809 - accuracy: 0.9783 - val_loss: 0.0697 - val_accuracy: 0.9838\n",
            "Epoch 16/18\n",
            "11187/11187 [==============================] - 675s 60ms/step - loss: 0.0841 - accuracy: 0.9779 - val_loss: 0.0702 - val_accuracy: 0.9851\n",
            "Epoch 17/18\n",
            "11187/11187 [==============================] - 675s 60ms/step - loss: 0.0796 - accuracy: 0.9791 - val_loss: 0.0752 - val_accuracy: 0.9845\n",
            "Epoch 18/18\n",
            "11187/11187 [==============================] - 682s 61ms/step - loss: 0.0787 - accuracy: 0.9795 - val_loss: 0.0808 - val_accuracy: 0.9819\n"
          ]
        }
      ],
      "source": [
        "history = model.fit(X_train,y_train,validation_data=(X_test,y_test),  epochs = 18)"
      ]
    },
    {
      "cell_type": "code",
      "execution_count": 23,
      "metadata": {
        "id": "A9QrpqvV-wv-"
      },
      "outputs": [],
      "source": [
        "model.save('alphanum_colab.h5')"
      ]
    },
    {
      "cell_type": "markdown",
      "source": [
        "### Accuracy Over all Epochs"
      ],
      "metadata": {
        "id": "uwerWtaufHGe"
      }
    },
    {
      "cell_type": "code",
      "source": [
        "history.history['accuracy']"
      ],
      "metadata": {
        "colab": {
          "base_uri": "https://localhost:8080/"
        },
        "id": "bV2LKay8bTKk",
        "outputId": "208ff17f-825e-4269-acd9-868809ee6033"
      },
      "execution_count": 31,
      "outputs": [
        {
          "output_type": "execute_result",
          "data": {
            "text/plain": [
              "[0.92115318775177,\n",
              " 0.9576377272605896,\n",
              " 0.964677631855011,\n",
              " 0.9686557054519653,\n",
              " 0.9710051417350769,\n",
              " 0.972806990146637,\n",
              " 0.9732763171195984,\n",
              " 0.9751145243644714,\n",
              " 0.9755252003669739,\n",
              " 0.9763297438621521,\n",
              " 0.9768940806388855,\n",
              " 0.9772348999977112,\n",
              " 0.9774192571640015,\n",
              " 0.9777209758758545,\n",
              " 0.9783411622047424,\n",
              " 0.9778969883918762,\n",
              " 0.9791429042816162,\n",
              " 0.9794893264770508]"
            ]
          },
          "metadata": {},
          "execution_count": 31
        }
      ]
    },
    {
      "cell_type": "markdown",
      "source": [
        "### Accuracy and Validation accuracy Graph"
      ],
      "metadata": {
        "id": "IzDeo7Emf2aW"
      }
    },
    {
      "cell_type": "code",
      "source": [
        "plt.plot(range(1,19), history.history['accuracy'], 'b', label='accuracy')\n",
        "plt.plot(range(1,19), history.history['val_accuracy'], 'g', label='val loss')"
      ],
      "metadata": {
        "id": "5PR-sN57NG2G",
        "colab": {
          "base_uri": "https://localhost:8080/",
          "height": 282
        },
        "outputId": "df2fd5db-cd22-48b4-d222-dbfe5bbb4de3"
      },
      "execution_count": 26,
      "outputs": [
        {
          "output_type": "execute_result",
          "data": {
            "text/plain": [
              "[<matplotlib.lines.Line2D at 0x7f3a2785d550>]"
            ]
          },
          "metadata": {},
          "execution_count": 26
        },
        {
          "output_type": "display_data",
          "data": {
            "text/plain": [
              "<Figure size 432x288 with 1 Axes>"
            ],
            "image/png": "[encoded data removed]"
          },
          "metadata": {
            "needs_background": "light"
          }
        }
      ]
    },
    {
      "cell_type": "markdown",
      "source": [
        "### Loss and Validation loss Graph"
      ],
      "metadata": {
        "id": "C2Z7pJqjf-KW"
      }
    },
    {
      "cell_type": "code",
      "source": [
        "plt.plot(range(1,19), history.history['loss'], 'b', label='accuracy')\n",
        "plt.plot(range(1,19), history.history['val_loss'], 'g', label='val loss')"
      ],
      "metadata": {
        "id": "UX-Jv6ODffSy",
        "colab": {
          "base_uri": "https://localhost:8080/",
          "height": 286
        },
        "outputId": "0b223128-93a4-4607-b2c4-dc2bf4d8a9f8"
      },
      "execution_count": 27,
      "outputs": [
        {
          "output_type": "execute_result",
          "data": {
            "text/plain": [
              "[<matplotlib.lines.Line2D at 0x7f3a23e19490>]"
            ]
          },
          "metadata": {},
          "execution_count": 27
        },
        {
          "output_type": "display_data",
          "data": {
            "text/plain": [
              "<Figure size 432x288 with 1 Axes>"
            ],
            "image/png": "[encoded data removed]"
          },
          "metadata": {
            "needs_background": "light"
          }
        }
      ]
    },
    {
      "cell_type": "markdown",
      "source": [
        "## Model accuracy and loss"
      ],
      "metadata": {
        "id": "zeSKPrWVgNGO"
      }
    },
    {
      "cell_type": "code",
      "source": [
        "score = model.evaluate(X_test, y_test, verbose=0)\n",
        "print('Test loss:', score[0])\n",
        "print('Test accuracy:', score[1] * 100 , '%')"
      ],
      "metadata": {
        "id": "y0zfGDNeAoKl",
        "colab": {
          "base_uri": "https://localhost:8080/"
        },
        "outputId": "f29a153f-95e7-4869-b50a-9f4166081062"
      },
      "execution_count": 30,
      "outputs": [
        {
          "output_type": "stream",
          "name": "stdout",
          "text": [
            "Test loss: 0.08082329481840134\n",
            "Test accuracy: 98.19268584251404 %\n"
          ]
        }
      ]
    },
    {
      "cell_type": "code",
      "source": [
        "from google.colab import drive\n",
        "drive.mount('/content/gdrive')"
      ],
      "metadata": {
        "id": "0ZDqqoEFbmi2"
      },
      "execution_count": null,
      "outputs": []
    },
    {
      "cell_type": "code",
      "source": [
        "import shutil\n",
        "shutil.copy('/content/alphanum_colab.h5','/content/gdrive/MyDrive/alphanum_project/alphanum_project.h5')\n"
      ],
      "metadata": {
        "id": "QENbWucZcWJC"
      },
      "execution_count": null,
      "outputs": []
    },
    {
      "cell_type": "code",
      "source": [],
      "metadata": {
        "id": "eAat4ZLacWMH"
      },
      "execution_count": null,
      "outputs": []
    }
  ],
  "metadata": {
    "colab": {
      "collapsed_sections": [],
      "provenance": []
    },
    "gpuClass": "standard",
    "kernelspec": {
      "display_name": "Python 3",
      "name": "python3"
    },
    "language_info": {
      "name": "python"
    }
  },
  "nbformat": 4,
  "nbformat_minor": 0
}